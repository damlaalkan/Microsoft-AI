{
 "cells": [
  {
   "cell_type": "code",
   "execution_count": null,
   "id": "related-shock",
   "metadata": {},
   "outputs": [],
   "source": [
    "#pip install --upgrade azure-cognitiveservices-vision-contentmoderator"
   ]
  },
  {
   "cell_type": "code",
   "execution_count": null,
   "id": "alternative-going",
   "metadata": {},
   "outputs": [],
   "source": [
    "import os.path\n",
    "import time\n",
    "import uuid\n",
    "from pprint import pprint\n",
    "\n",
    "from azure.cognitiveservices.vision.contentmoderator import ContentModeratorClient\n",
    "from azure.cognitiveservices.vision.contentmoderator.models import (Evaluate, OCR, FoundFaces, # image moderation\n",
    "        APIErrorException, Body, ImageList, ImageIds, Image, RefreshIndex, MatchResponse, # image lists\n",
    "        TermList, Terms, TermsData, Screen, # terms lists\n",
    "        CreateReviewBodyItem ) # create human review for images\n",
    "from msrest.authentication import CognitiveServicesCredentials"
   ]
  },
  {
   "cell_type": "code",
   "execution_count": null,
   "id": "enabling-owner",
   "metadata": {},
   "outputs": [],
   "source": [
    "CONTENT_MODERATOR_ENDPOINT = \"your endpoint\"\n",
    "subscription_key = \"your key\""
   ]
  },
  {
   "cell_type": "code",
   "execution_count": null,
   "id": "processed-feature",
   "metadata": {},
   "outputs": [],
   "source": [
    "client = ContentModeratorClient(\n",
    "    endpoint=CONTENT_MODERATOR_ENDPOINT,\n",
    "    credentials=CognitiveServicesCredentials(subscription_key)\n",
    ")"
   ]
  },
  {
   "cell_type": "code",
   "execution_count": null,
   "id": "simplified-master",
   "metadata": {},
   "outputs": [],
   "source": [
    "def moderate_text(file, lang):\n",
    "    print('EVALUATE TEXT')\n",
    "    print()\n",
    "\n",
    "    # Screen the input text: check for profanity, autocorrect text, \n",
    "    # check for personally identifying information (PII), and classify text.\n",
    "    # The parameter 'text_content' expects a File object, which it can call read() on.\n",
    "    with open(file, \"rb\") as text_file:\n",
    "        screen = client.text_moderation.screen_text(language=lang, text_content_type=\"text/plain\", text_content=text_file, autocorrect=True, pii=True, classify=True)\n",
    "        assert isinstance(screen, Screen)\n",
    "        # Format and print\n",
    "        text_mod_results = list(screen.as_dict().items())\n",
    "        pprint(text_mod_results)\n",
    "        print()"
   ]
  },
  {
   "cell_type": "code",
   "execution_count": null,
   "id": "suburban-importance",
   "metadata": {},
   "outputs": [],
   "source": [
    "TEXT_MODERATION_FILE_ENG = 'content_moderator_text_moderation.txt'"
   ]
  },
  {
   "cell_type": "code",
   "execution_count": null,
   "id": "swedish-collect",
   "metadata": {},
   "outputs": [],
   "source": [
    "moderate_text(TEXT_MODERATION_FILE, \"eng\")"
   ]
  },
  {
   "cell_type": "code",
   "execution_count": null,
   "id": "knowing-robertson",
   "metadata": {},
   "outputs": [],
   "source": [
    "TEXT_MODERATION_FILE_TR = 'content_moderator_text_moderation_tr.txt'"
   ]
  },
  {
   "cell_type": "code",
   "execution_count": null,
   "id": "republican-hampton",
   "metadata": {},
   "outputs": [],
   "source": [
    "moderate_text(TEXT_MODERATION_FILE_TR, \"tur\")"
   ]
  },
  {
   "cell_type": "code",
   "execution_count": null,
   "id": "unavailable-delicious",
   "metadata": {},
   "outputs": [],
   "source": []
  }
 ],
 "metadata": {
  "kernelspec": {
   "display_name": "Python 3",
   "language": "python",
   "name": "python3"
  },
  "language_info": {
   "codemirror_mode": {
    "name": "ipython",
    "version": 3
   },
   "file_extension": ".py",
   "mimetype": "text/x-python",
   "name": "python",
   "nbconvert_exporter": "python",
   "pygments_lexer": "ipython3",
   "version": "3.7.9"
  }
 },
 "nbformat": 4,
 "nbformat_minor": 5
}
