{
 "cells": [
  {
   "cell_type": "markdown",
   "id": "innocent-sunglasses",
   "metadata": {},
   "source": [
    "## Bing Entity Search REST API ve Python"
   ]
  },
  {
   "cell_type": "markdown",
   "id": "nominated-thailand",
   "metadata": {},
   "source": [
    "Bing Entity Search Dökümanı: https://docs.microsoft.com/tr-tr/bing/search-apis/bing-news-search/overview"
   ]
  },
  {
   "cell_type": "markdown",
   "id": "weighted-synthetic",
   "metadata": {},
   "source": [
    "Gerekli modülleri ekleyin."
   ]
  },
  {
   "cell_type": "code",
   "execution_count": null,
   "id": "liberal-toronto",
   "metadata": {},
   "outputs": [],
   "source": [
    "import http.client, urllib.parse\n",
    "import json"
   ]
  },
  {
   "cell_type": "markdown",
   "id": "charged-auckland",
   "metadata": {},
   "source": [
    "Azure Bing Search v7 servisi subscription key'inizi, işlemi yapmak istediğiniz dili \"mkt\" değişkenine (*Bu servisin henüz Türkçe desteği yok.*), entity aratmak istediğiniz sorguyu \"query\" değişkenine giriniz. \n",
    "\n"
   ]
  },
  {
   "cell_type": "code",
   "execution_count": null,
   "id": "verified-telescope",
   "metadata": {},
   "outputs": [],
   "source": [
    "subscriptionKey = 'Subscription keyinizi buraya giriniz'\n",
    "host = 'api.bing.microsoft.com'\n",
    "path = '/v7.0/entities'\n",
    "mkt = 'en-US'\n",
    "query = 'italian restaurants near me'"
   ]
  },
  {
   "cell_type": "code",
   "execution_count": null,
   "id": "color-worse",
   "metadata": {},
   "outputs": [],
   "source": [
    "params = '?mkt=' + mkt + '&q=' + urllib.parse.quote (query)"
   ]
  },
  {
   "cell_type": "markdown",
   "id": "accompanied-freeze",
   "metadata": {},
   "source": [
    "API requesti için get_suggestions() fonksiyonunu oluşturun."
   ]
  },
  {
   "cell_type": "code",
   "execution_count": null,
   "id": "crucial-commander",
   "metadata": {},
   "outputs": [],
   "source": [
    "def get_suggestions ():\n",
    " headers = {'Ocp-Apim-Subscription-Key': subscriptionKey}\n",
    " conn = http.client.HTTPSConnection (host)\n",
    " conn.request (\"GET\", path + params, None, headers)\n",
    " response = conn.getresponse ()\n",
    " return response.read()"
   ]
  },
  {
   "cell_type": "markdown",
   "id": "executive-jackson",
   "metadata": {},
   "source": [
    "API'den gelen cevabı JSON formatında yazdırın."
   ]
  },
  {
   "cell_type": "code",
   "execution_count": null,
   "id": "north-tamil",
   "metadata": {},
   "outputs": [],
   "source": [
    "result = get_suggestions ()\n",
    "print (json.dumps(json.loads(result), indent=4))"
   ]
  }
 ],
 "metadata": {
  "kernelspec": {
   "display_name": "Python 3",
   "language": "python",
   "name": "python3"
  },
  "language_info": {
   "codemirror_mode": {
    "name": "ipython",
    "version": 3
   },
   "file_extension": ".py",
   "mimetype": "text/x-python",
   "name": "python",
   "nbconvert_exporter": "python",
   "pygments_lexer": "ipython3",
   "version": "3.8.2"
  }
 },
 "nbformat": 4,
 "nbformat_minor": 5
}
