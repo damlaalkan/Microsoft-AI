{
 "cells": [
  {
   "cell_type": "markdown",
   "id": "golden-shield",
   "metadata": {},
   "source": [
    "## Bing Image Search REST API ve Python"
   ]
  },
  {
   "cell_type": "markdown",
   "id": "liberal-surveillance",
   "metadata": {},
   "source": [
    "Bing Image Search Döküman: https://docs.microsoft.com/tr-tr/bing/search-apis/bing-image-search/overview."
   ]
  },
  {
   "cell_type": "markdown",
   "id": "liberal-surveillance",
   "metadata": {},
   "source": [
    "Gerekli modülleri ekleyin."
   ]
  },
  {
   "cell_type": "code",
   "execution_count": null,
   "id": "actual-contrast",
   "metadata": {},
   "outputs": [],
   "source": [
    "import requests\n",
    "import matplotlib.pyplot as plt\n",
    "from PIL import Image\n",
    "from io import BytesIO"
   ]
  },
  {
   "cell_type": "markdown",
   "id": "underlying-seattle",
   "metadata": {},
   "source": [
    "Azure Bing Search v7 servisi subscription key'inizi, aratmak istediğiniz görsel ile ilgili sorguyu \"search_term\" değişkenine girin."
   ]
  },
  {
   "cell_type": "code",
   "execution_count": null,
   "id": "certain-mississippi",
   "metadata": {},
   "outputs": [],
   "source": [
    "subscription_key = \"Subscription keyinizi buraya giriniz\"\n",
    "search_url = \"https://api.bing.microsoft.com/v7.0/images/search\"\n",
    "search_term = \"köpek\""
   ]
  },
  {
   "cell_type": "code",
   "execution_count": null,
   "id": "outdoor-practice",
   "metadata": {},
   "outputs": [],
   "source": [
    "headers = {\"Ocp-Apim-Subscription-Key\" : subscription_key}"
   ]
  },
  {
   "cell_type": "markdown",
   "id": "rental-citizen",
   "metadata": {},
   "source": [
    "Requests kütüphanesi ile parametre ve headerları da girerek Bing Image Search APIsini çağırın."
   ]
  },
  {
   "cell_type": "code",
   "execution_count": null,
   "id": "latest-figure",
   "metadata": {},
   "outputs": [],
   "source": [
    "params  = {\"q\": search_term, \"license\": \"public\", \"imageType\": \"photo\"}\n",
    "\n",
    "response = requests.get(search_url, headers=headers, params=params)\n",
    "response.raise_for_status()\n",
    "search_results = response.json()"
   ]
  },
  {
   "cell_type": "markdown",
   "id": "better-gothic",
   "metadata": {},
   "source": [
    "Yanıtın thumbnailUrl alanından birkaç küçük resim için URL'leri alın."
   ]
  },
  {
   "cell_type": "code",
   "execution_count": null,
   "id": "loved-bahamas",
   "metadata": {},
   "outputs": [],
   "source": [
    "thumbnail_urls = [img[\"thumbnailUrl\"] for img in search_results[\"value\"][:16]]"
   ]
  },
  {
   "cell_type": "markdown",
   "id": "powerful-cyprus",
   "metadata": {},
   "source": [
    "4x4 luk bir figür oluşturup ve her bir alana thumbnail_urls'den bir görsel ekleyin.\n",
    "\n",
    "plt.show() ile figürü ve görselleri çizdirin."
   ]
  },
  {
   "cell_type": "code",
   "execution_count": null,
   "id": "supreme-statement",
   "metadata": {},
   "outputs": [],
   "source": [
    "f, axes = plt.subplots(4, 4)\n",
    "for i in range(4):\n",
    "    for j in range(4):\n",
    "        image_data = requests.get(thumbnail_urls[i+4*j])\n",
    "        image_data.raise_for_status()\n",
    "        image = Image.open(BytesIO(image_data.content))        \n",
    "        axes[i][j].imshow(image)\n",
    "        axes[i][j].axis(\"off\")\n",
    "plt.show()"
   ]
  }
 ],
 "metadata": {
  "kernelspec": {
   "display_name": "Python 3",
   "language": "python",
   "name": "python3"
  },
  "language_info": {
   "codemirror_mode": {
    "name": "ipython",
    "version": 3
   },
   "file_extension": ".py",
   "mimetype": "text/x-python",
   "name": "python",
   "nbconvert_exporter": "python",
   "pygments_lexer": "ipython3",
   "version": "3.8.2"
  }
 },
 "nbformat": 4,
 "nbformat_minor": 5
}
