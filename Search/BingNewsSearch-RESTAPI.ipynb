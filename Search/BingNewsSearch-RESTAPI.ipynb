{
 "cells": [
  {
   "cell_type": "markdown",
   "id": "together-noise",
   "metadata": {},
   "source": [
    "## Bing News Search REST API ve Python"
   ]
  },
  {
   "cell_type": "markdown",
   "id": "encouraging-accused",
   "metadata": {},
   "source": [
    "Gerekli kütüphaneleri ekle"
   ]
  },
  {
   "cell_type": "code",
   "execution_count": null,
   "id": "necessary-environment",
   "metadata": {},
   "outputs": [],
   "source": [
    "import json\n",
    "import requests"
   ]
  },
  {
   "cell_type": "markdown",
   "id": "exceptional-simple",
   "metadata": {},
   "source": [
    "Azure Bing Search v7 servisi subscription key'inizi, aratmak istediğiniz haber ile ilgili sorguyu \"search_term\" değişkenine giriniz."
   ]
  },
  {
   "cell_type": "code",
   "execution_count": null,
   "id": "spread-drawing",
   "metadata": {},
   "outputs": [],
   "source": [
    "subscription_key = \"Subscription keyinizi buraya giriniz\"\n",
    "search_term = \"Microsoft\"\n",
    "endpoint = \"https://api.bing.microsoft.com/v7.0/news/search\""
   ]
  },
  {
   "cell_type": "markdown",
   "id": "proof-works",
   "metadata": {},
   "source": [
    "Aratmak istediğiniz haberin dilini \"mkt\" değişkenine giriniz ve request yapısını oluşturun."
   ]
  },
  {
   "cell_type": "code",
   "execution_count": null,
   "id": "radio-northern",
   "metadata": {},
   "outputs": [],
   "source": [
    "mkt = 'tr-TR'\n",
    "params = {'q': search_term, 'mkt': mkt}\n",
    "headers = {\"Ocp-Apim-Subscription-Key\" : subscription_key}"
   ]
  },
  {
   "cell_type": "markdown",
   "id": "extensive-begin",
   "metadata": {},
   "source": [
    "Bing News Search APIsini çağırın"
   ]
  },
  {
   "cell_type": "code",
   "execution_count": null,
   "id": "missing-breathing",
   "metadata": {},
   "outputs": [],
   "source": [
    "try:\n",
    "    response = requests.get(endpoint, headers=headers, params=params)\n",
    "    response.raise_for_status()\n",
    "\n",
    "    print(\"\\nHeaders:\\n\")\n",
    "    print(response.headers)\n",
    "\n",
    "    print(\"\\nJSON Response:\\n\")\n",
    "    pprint(response.json())\n",
    "except Exception as ex:\n",
    "    raise ex"
   ]
  },
  {
   "cell_type": "code",
   "execution_count": null,
   "id": "concrete-assets",
   "metadata": {},
   "outputs": [],
   "source": []
  }
 ],
 "metadata": {
  "kernelspec": {
   "display_name": "Python 3",
   "language": "python",
   "name": "python3"
  },
  "language_info": {
   "codemirror_mode": {
    "name": "ipython",
    "version": 3
   },
   "file_extension": ".py",
   "mimetype": "text/x-python",
   "name": "python",
   "nbconvert_exporter": "python",
   "pygments_lexer": "ipython3",
   "version": "3.8.2"
  }
 },
 "nbformat": 4,
 "nbformat_minor": 5
}
