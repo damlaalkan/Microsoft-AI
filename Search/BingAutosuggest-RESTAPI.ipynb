{
 "cells": [
  {
   "cell_type": "markdown",
   "id": "handy-bullet",
   "metadata": {},
   "source": [
    "## Bing Autosuggest REST API ve Python "
   ]
  },
  {
   "cell_type": "markdown",
   "id": "satisfactory-hardwood",
   "metadata": {},
   "source": [
    "Bing Autosuggest Dökümanı: https://docs.microsoft.com/en-us/bing/search-apis/bing-autosuggest/overview"
   ]
  },
  {
   "cell_type": "markdown",
   "id": "quick-exhaust",
   "metadata": {},
   "source": [
    "Gerekli modülleri ekleyin."
   ]
  },
  {
   "cell_type": "code",
   "execution_count": null,
   "id": "informative-typing",
   "metadata": {},
   "outputs": [],
   "source": [
    "import http.client, urllib.parse, json"
   ]
  },
  {
   "cell_type": "markdown",
   "id": "characteristic-change",
   "metadata": {},
   "source": [
    "Azure Bing Search v7 servisi subscription key'inizi, işlemi yapmak istediğiniz dili \"mkt\" değişkenine, autosuggest için kullanmak istediğiniz sorguyu \"query\" değişkenine girin."
   ]
  },
  {
   "cell_type": "code",
   "execution_count": null,
   "id": "western-booking",
   "metadata": {},
   "outputs": [],
   "source": [
    "subscriptionKey = 'Subscription keyinizi buraya giriniz'\n",
    "host = 'api.bing.microsoft.com'\n",
    "path = '/v7.0/Suggestions'\n",
    "mkt = 'tr-TR'\n",
    "query = 'tekne'"
   ]
  },
  {
   "cell_type": "code",
   "execution_count": null,
   "id": "arctic-origin",
   "metadata": {},
   "outputs": [],
   "source": [
    "params = '?mkt=' + mkt + '&q=' + query"
   ]
  },
  {
   "cell_type": "code",
   "execution_count": null,
   "id": "upper-internship",
   "metadata": {},
   "outputs": [],
   "source": [
    "headers = {'Ocp-Apim-Subscription-Key': subscriptionKey}"
   ]
  },
  {
   "cell_type": "markdown",
   "id": "lesbian-interference",
   "metadata": {},
   "source": [
    "API requesti için get_suggestions() fonksiyonunu oluşturun."
   ]
  },
  {
   "cell_type": "code",
   "execution_count": null,
   "id": "supposed-palmer",
   "metadata": {},
   "outputs": [],
   "source": [
    "def get_suggestions():\n",
    "    conn = http.client.HTTPSConnection(host)\n",
    "    conn.request (\"GET\", path + params, None, headers)\n",
    "    response = conn.getresponse()\n",
    "    return response.read()"
   ]
  },
  {
   "cell_type": "markdown",
   "id": "severe-mexican",
   "metadata": {},
   "source": [
    "APIden gelen cevabı JSON formatında yazdırın."
   ]
  },
  {
   "cell_type": "code",
   "execution_count": null,
   "id": "painted-recognition",
   "metadata": {
    "scrolled": true
   },
   "outputs": [],
   "source": [
    "result = get_suggestions()\n",
    "print (json.dumps(json.loads(result), indent=4))"
   ]
  }
 ],
 "metadata": {
  "kernelspec": {
   "display_name": "Python 3",
   "language": "python",
   "name": "python3"
  },
  "language_info": {
   "codemirror_mode": {
    "name": "ipython",
    "version": 3
   },
   "file_extension": ".py",
   "mimetype": "text/x-python",
   "name": "python",
   "nbconvert_exporter": "python",
   "pygments_lexer": "ipython3",
   "version": "3.8.2"
  }
 },
 "nbformat": 4,
 "nbformat_minor": 5
}
