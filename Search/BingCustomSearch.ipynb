{
 "cells": [
  {
   "cell_type": "markdown",
   "id": "automotive-arthur",
   "metadata": {},
   "source": [
    "Bing Custom Search"
   ]
  },
  {
   "cell_type": "markdown",
   "id": "coupled-stationery",
   "metadata": {},
   "source": [
    "Bing Custom Search, Bing Search APIları altında yer almaktadır. "
   ]
  },
  {
   "cell_type": "markdown",
   "id": "ranging-monroe",
   "metadata": {},
   "source": [
    "Bing Custom Search portalından Custom Search Instance'ı oluşturabilirsiniz: https://www.customsearch.ai/\n",
    "Oluşturduğunuz Configuration'u Publish edin, daha sonra bu Configuration'u customConfigId ile tüketebilirsiniz. Size özel bir arama deneyimi sunar. Arayüz üzerinden geliştirebileceğiniz arama portalınızda, pinleme, boostlama ve sınırlandırma gibi konfigürasyonlar yapabilirsiniz.\n",
    "\n",
    "\n",
    "Bing Search API Dökümantasyonu: https://docs.microsoft.com/en-us/bing/search-apis/bing-web-search/\n",
    "\n",
    "Bing Custom Web Search Dökümantasyonu: https://docs.microsoft.com/en-us/bing/search-apis/bing-custom-search/overview"
   ]
  },
  {
   "cell_type": "markdown",
   "id": "centered-attendance",
   "metadata": {},
   "source": [
    "Bing Custom Search ENDPOINT'leri:\n",
    "\n",
    "https://api.bing.microsoft.com/v7.0/custom/search\tCustom Web Search\n",
    "https://api.bing.microsoft.com/v7.0/custom/suggestions/search\tCustom Autosuggest\n",
    "https://api.bing.microsoft.com/v7.0/custom/images/search\tCustom Image Search\n",
    "https://api.bing.microsoft.com/v7.0/custom/videos/search\tCustom Video Search"
   ]
  },
  {
   "cell_type": "code",
   "execution_count": 1,
   "id": "static-travel",
   "metadata": {},
   "outputs": [],
   "source": [
    "import json\n",
    "import requests"
   ]
  },
  {
   "cell_type": "code",
   "execution_count": 2,
   "id": "systematic-compiler",
   "metadata": {},
   "outputs": [],
   "source": [
    "subscriptionKey = \"your_key\"\n",
    "customConfigId = \"your_custom_config_id\""
   ]
  },
  {
   "cell_type": "markdown",
   "id": "special-compilation",
   "metadata": {},
   "source": [
    "Custom Web Search"
   ]
  },
  {
   "cell_type": "code",
   "execution_count": null,
   "id": "distant-discharge",
   "metadata": {},
   "outputs": [],
   "source": [
    "searchTerm = \"microsoft\""
   ]
  },
  {
   "cell_type": "code",
   "execution_count": null,
   "id": "excellent-statement",
   "metadata": {},
   "outputs": [],
   "source": [
    "url = 'https://api.bing.microsoft.com/v7.0/custom/search?' + 'q=' + searchTerm + '&' + 'customconfig=' + customConfigId  "
   ]
  },
  {
   "cell_type": "code",
   "execution_count": null,
   "id": "spoken-cycle",
   "metadata": {},
   "outputs": [],
   "source": [
    "r = requests.get(url, headers={'Ocp-Apim-Subscription-Key': subscriptionKey})\n",
    "print(r.text)"
   ]
  },
  {
   "cell_type": "markdown",
   "id": "invalid-preparation",
   "metadata": {},
   "source": [
    "Custom Web Search: Diğer Parametreler ile (Not Required)\n",
    "\n",
    "https://docs.microsoft.com/en-us/bing/search-apis/bing-custom-search/reference/query-parameters"
   ]
  },
  {
   "cell_type": "code",
   "execution_count": null,
   "id": "horizontal-adjustment",
   "metadata": {},
   "outputs": [],
   "source": [
    "searchTerm = \"microsoft\"\n",
    "cc = \"tr-TR\" #Country Code of results.\n",
    "count = \"15\" #Number of search results returning/ Default is 10. Max is 50.\n",
    "mkt = \"tr-TR\" #Market of results. <language>-<country/region> . \n",
    "# This mkt parameter and the cc query parameter are mutually exclusive — do not specify both,\n",
    "offset = \"2\" # Number of search results to skip before returning results. Default 's 0/'\n",
    "q = \"Strict\" # Off/Moderate/Strict filter values for adult content.\n",
    "setLang = \"tr\" #User Interface string. This parameter and the Accept-Language header are mutually exclusive — do not specify both.\n",
    "textDecorations = True #A Boolean value that determines whether display strings in the results should contain decoration markers such as hit highlighting characters.\n",
    "textFormat = \"HTML\" #Raw(default)/HTML"
   ]
  },
  {
   "cell_type": "code",
   "execution_count": null,
   "id": "banned-nomination",
   "metadata": {},
   "outputs": [],
   "source": [
    "url = 'https://api.bing.microsoft.com/v7.0/custom/search?' + 'q=' + searchTerm + '&' + 'customconfig=' + customConfigId  + '&' + 'cc=' + cc  + '&' + 'count=' + count + '&' + 'mkt=' + mkt  + '&' + 'offset=' + offset  + '&' + 'q=' + q  + '&' + 'setLang=' + setLang "
   ]
  },
  {
   "cell_type": "code",
   "execution_count": null,
   "id": "defensive-harvest",
   "metadata": {},
   "outputs": [],
   "source": [
    "r2 = requests.get(url, headers={'Ocp-Apim-Subscription-Key': subscriptionKey})\n",
    "print(r2.text)"
   ]
  },
  {
   "cell_type": "markdown",
   "id": "encouraging-graduate",
   "metadata": {},
   "source": [
    "Custom Autosuggest"
   ]
  },
  {
   "cell_type": "code",
   "execution_count": null,
   "id": "eleven-heater",
   "metadata": {},
   "outputs": [],
   "source": [
    "searchTerm = \"azure\""
   ]
  },
  {
   "cell_type": "code",
   "execution_count": null,
   "id": "common-police",
   "metadata": {},
   "outputs": [],
   "source": [
    "url = 'https://api.bing.microsoft.com/v7.0/custom/suggestions/search?' + 'q=' + searchTerm + '&' + 'customconfig=' + customConfigId"
   ]
  },
  {
   "cell_type": "code",
   "execution_count": null,
   "id": "worldwide-dollar",
   "metadata": {},
   "outputs": [],
   "source": [
    "r = requests.get(url, headers={'Ocp-Apim-Subscription-Key': subscriptionKey})\n",
    "print(r.text)"
   ]
  }
 ],
 "metadata": {
  "kernelspec": {
   "display_name": "Python 3",
   "language": "python",
   "name": "python3"
  },
  "language_info": {
   "codemirror_mode": {
    "name": "ipython",
    "version": 3
   },
   "file_extension": ".py",
   "mimetype": "text/x-python",
   "name": "python",
   "nbconvert_exporter": "python",
   "pygments_lexer": "ipython3",
   "version": "3.7.9"
  }
 },
 "nbformat": 4,
 "nbformat_minor": 5
}
