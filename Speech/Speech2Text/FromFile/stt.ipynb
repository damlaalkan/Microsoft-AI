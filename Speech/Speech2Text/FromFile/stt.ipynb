{
 "cells": [
  {
   "cell_type": "markdown",
   "metadata": {},
   "source": [
    "<h1>Speech to Text on Audio Files Automation\n",
    "    <h4>Azure Cognitive Servisler içerisinde yer alan Speech servisi ile örnek bir sesten metne dönüşüm scripti."
   ]
  },
  {
   "cell_type": "markdown",
   "metadata": {},
   "source": [
    "Congitive Servisler Dökümantasyonu: https://docs.microsoft.com/en-us/azure/cognitive-services/\n",
    "\n",
    "Bu servislerin kullanımı için Azure Portal üzerinden bir servis oluşturulmalı, **Speech** .\n",
    "\n",
    "**Speech Servisi**\n",
    "\n",
    "Speech Servisleri Dökümantasyonu: https://docs.microsoft.com/en-us/azure/cognitive-services/speech-service/\n",
    "\n",
    "Speech to Text Dökümantasyonu: https://docs.microsoft.com/en-us/azure/cognitive-services/speech-service/speech-to-text\n"
   ]
  },
  {
   "cell_type": "code",
   "execution_count": null,
   "metadata": {},
   "outputs": [],
   "source": [
    "#pip install azure"
   ]
  },
  {
   "cell_type": "code",
   "execution_count": null,
   "metadata": {},
   "outputs": [],
   "source": [
    "#pip install azure-cognitiveservices-speech"
   ]
  },
  {
   "cell_type": "code",
   "execution_count": null,
   "metadata": {},
   "outputs": [],
   "source": [
    "#pip install azure-core"
   ]
  },
  {
   "cell_type": "code",
   "execution_count": null,
   "metadata": {},
   "outputs": [],
   "source": [
    "from azure.core.credentials import AzureKeyCredential\n",
    "import glob\n",
    "import azure.cognitiveservices.speech as speechsdk\n",
    "import time\n",
    "import json\n",
    "import pandas as pd\n",
    "import csv"
   ]
  },
  {
   "cell_type": "markdown",
   "metadata": {},
   "source": [
    "<h5>Bu örnekte 2 adet ses dosyası ile çalışmaktayız. Bu dosyaların wav formatında olması gerekiyor.\n",
    "Ses dosyalarının ve output dosyasının ismi aşağıda tanımlanmalı. Output dosyası csv formatında oluşturulmuş olmalı."
   ]
  },
  {
   "cell_type": "code",
   "execution_count": null,
   "metadata": {},
   "outputs": [],
   "source": [
    "#\n",
    "audio_input1 = speechsdk.AudioConfig(filename=\"audio1.wav\") \n",
    "\n",
    "output1 = \"output1\""
   ]
  },
  {
   "cell_type": "code",
   "execution_count": null,
   "metadata": {},
   "outputs": [],
   "source": [
    "audio_input2 = speechsdk.AudioConfig(filename=\"audio2.wav\") \n",
    "output2 = \"output2\""
   ]
  },
  {
   "cell_type": "markdown",
   "metadata": {},
   "source": [
    "<h5>Daha sonra oluşturduğumuz bu servislere ait bilgiler girilmeli.\n",
    "    Bu bilgilere Resource içerisindeki Keys and Endpoint kısmından ulaşabiliriz.\n",
    " "
   ]
  },
  {
   "cell_type": "code",
   "execution_count": null,
   "metadata": {},
   "outputs": [],
   "source": [
    "speech_key = \"...\"\n",
    "speech_region = \"...\""
   ]
  },
  {
   "cell_type": "markdown",
   "metadata": {},
   "source": [
    "<h5>Speech to Text Fonksiyonları"
   ]
  },
  {
   "cell_type": "code",
   "execution_count": null,
   "metadata": {},
   "outputs": [],
   "source": [
    "speech_config = speechsdk.SpeechConfig(subscription= speech_key, region= speech_region) "
   ]
  },
  {
   "cell_type": "code",
   "execution_count": null,
   "metadata": {},
   "outputs": [],
   "source": [
    "def speech_recognize_continuous_from_file(file, output_file_name):\n",
    "    \n",
    "    speech_config = speechsdk.SpeechConfig(subscription=\"9fb7c3f3b6524358ad56915e0d8a6b60\", region=\"westeurope\") \n",
    "    audio_config = file\n",
    "    \n",
    "    speech_recognizer = speechsdk.SpeechRecognizer(speech_config=speech_config, audio_config=audio_config, language=\"tr-TR\")\n",
    "    \n",
    "    done = False\n",
    "    def stop_cb(evt):\n",
    "        #print('CLOSING on {}'.format(evt))\n",
    "        speech_recognizer.stop_continuous_recognition()\n",
    "        nonlocal done\n",
    "        done = True\n",
    "    all_results = []\n",
    "    def handle_final_result(evt):\n",
    "        all_results.append(evt.result.text)\n",
    "    speech_recognizer.recognized.connect(handle_final_result)\n",
    "    \n",
    "    #Anlik speech to Text donusumunu takip etmek icin asagidaki satirlari uncomment ediniz.\n",
    "    \n",
    "    #speech_recognizer.recognizing.connect(lambda evt: print('RECOGNIZING: {}'.format(evt)))\n",
    "    #speech_recognizer.recognized.connect(lambda evt: print('RECOGNIZED: {}'.format(evt)))\n",
    "    #speech_recognizer.session_started.connect(lambda evt: print('SESSION STARTED: {}'.format(evt)))\n",
    "    #speech_recognizer.session_stopped.connect(lambda evt: print('SESSION STOPPED {}'.format(evt)))\n",
    "    ##speech_recognizer.canceled.connect(lambda evt: print('CANCELED {}'.format(evt)))\n",
    "    \n",
    "    speech_recognizer.session_stopped.connect(stop_cb)\n",
    "    speech_recognizer.canceled.connect(stop_cb)\n",
    "    \n",
    "    speech_recognizer.start_continuous_recognition()\n",
    "    while not done:\n",
    "        time.sleep(.5)\n",
    "    print(\"Printing all results:\")\n",
    "    print(all_results)\n",
    "    df = pd.DataFrame(all_results)\n",
    "    df\n",
    "    file_name = output_file_name + r\".csv\"\n",
    "    df.to_csv(file_name)\n",
    "    print (\"Audio File: converted successfully\")\n",
    "    return all_results"
   ]
  },
  {
   "cell_type": "code",
   "execution_count": null,
   "metadata": {},
   "outputs": [],
   "source": [
    "def speech_to_text(audio_input, output_file_name):\n",
    "    print (\"PROGRAM START\")\n",
    "    tic = time.perf_counter()\n",
    "    \n",
    "    file= audio_input\n",
    "\n",
    "    # Loop to call function to convert audio files to text\n",
    "    #run_speech_to_text_small_audio_files(file)\n",
    "    all_results = speech_recognize_continuous_from_file(file, output_file_name)\n",
    "    print(file)\n",
    "    print (\"PROGRAM END\")\n",
    "    toc = time.perf_counter()\n",
    "    print(f\"Converted speech to text in {toc - tic:0.4f} seconds\")\n",
    "    return all_results"
   ]
  },
  {
   "cell_type": "markdown",
   "metadata": {},
   "source": [
    "<h3>AUDIO FILE 1\n",
    "<h5>Speech To Text Dönüşümü"
   ]
  },
  {
   "cell_type": "code",
   "execution_count": null,
   "metadata": {
    "scrolled": true
   },
   "outputs": [],
   "source": [
    "stt_results1 = speech_to_text(audio_input1, output1)"
   ]
  },
  {
   "cell_type": "markdown",
   "metadata": {},
   "source": [
    "<h3>AUDIO FILE 2\n",
    "<h5>Speech To Text Dönüşümü"
   ]
  },
  {
   "cell_type": "code",
   "execution_count": null,
   "metadata": {},
   "outputs": [],
   "source": [
    "stt_results2 = speech_to_text(audio_input2, output2)"
   ]
  }
 ],
 "metadata": {
  "kernelspec": {
   "display_name": "Python 3",
   "language": "python",
   "name": "python3"
  },
  "language_info": {
   "codemirror_mode": {
    "name": "ipython",
    "version": 3
   },
   "file_extension": ".py",
   "mimetype": "text/x-python",
   "name": "python",
   "nbconvert_exporter": "python",
   "pygments_lexer": "ipython3",
   "version": "3.8.5"
  }
 },
 "nbformat": 4,
 "nbformat_minor": 5
}
