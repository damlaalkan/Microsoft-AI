{
 "cells": [
  {
   "cell_type": "markdown",
   "id": "norman-advancement",
   "metadata": {},
   "source": [
    "<h1>Speech to Text and Sentiment Analysis on Audio Files Automation\n",
    "    <h4>Azure Cognitive Servisler içerisinde yer alan Speech servisi ve Text Analytıcs servisi ile örnek bir sesten metne dönüşüm ve duygu analizi scripti."
   ]
  },
  {
   "cell_type": "markdown",
   "id": "breeding-welsh",
   "metadata": {},
   "source": [
    "Congitive Servisler Dökümantasyonu: https://docs.microsoft.com/en-us/azure/cognitive-services/\n",
    "\n",
    "Bu servislerin kullanımı için Azure Portal üzerinden iki serviş oluşturulmalı, **Speech** ve **Text Analytics**.\n",
    "\n",
    "**Speech Servisi**\n",
    "\n",
    "Speech Servisleri Dökümantasyonu: https://docs.microsoft.com/en-us/azure/cognitive-services/speech-service/\n",
    "\n",
    "Speech to Text Dökümantasyonu: https://docs.microsoft.com/en-us/azure/cognitive-services/speech-service/speech-to-text\n",
    "\n",
    "**Text Analytics Servisi**\n",
    "\n",
    "Text Analytics Dökümantasyonu:https://docs.microsoft.com/en-us/azure/cognitive-services/text-analytics/\n",
    "\n",
    "Entity Recognition Desteklenen Entitiy'ler: https://docs.microsoft.com/en-us/azure/cognitive-services/text-analytics/named-entity-types?tabs=general"
   ]
  },
  {
   "cell_type": "code",
   "execution_count": null,
   "id": "assigned-israel",
   "metadata": {},
   "outputs": [],
   "source": [
    "from azure.ai.textanalytics import TextAnalyticsClient\n",
    "from azure.core.credentials import AzureKeyCredential\n",
    "import glob\n",
    "import azure.cognitiveservices.speech as speechsdk\n",
    "import time\n",
    "import json\n",
    "import pandas as pd\n",
    "import csv"
   ]
  },
  {
   "cell_type": "markdown",
   "id": "perfect-preparation",
   "metadata": {},
   "source": [
    "<h5>Bu örnekte 2 adet ses dosyası ile çalışmaktayız. Bu dosyaların wav formatında olması gerekiyor.\n",
    "Ses dosyalarının ve output dosyasının ismi aşağıda tanımlanmalı. Output dosyası csv formatında oluşturulmuş olmalı."
   ]
  },
  {
   "cell_type": "code",
   "execution_count": null,
   "id": "coordinate-cruise",
   "metadata": {},
   "outputs": [],
   "source": [
    "audio_input1 = speechsdk.AudioConfig(filename=\"audio1.wav\") \n",
    "\n",
    "output1 = \"output1\""
   ]
  },
  {
   "cell_type": "code",
   "execution_count": null,
   "id": "beneficial-potato",
   "metadata": {},
   "outputs": [],
   "source": [
    "audio_input2 = speechsdk.AudioConfig(filename=\"audio1.wav\") \n",
    "output2 = \"output2\""
   ]
  },
  {
   "cell_type": "markdown",
   "id": "functional-elimination",
   "metadata": {},
   "source": [
    "<h5>Daha sonra oluşturduğumuz bu servislere ait bilgiler girilmeli.\n",
    "    Bu bilgilere Resource içerisindeki Keys and Endpoint kısmından ulaşabiliriz.\n",
    " "
   ]
  },
  {
   "cell_type": "code",
   "execution_count": null,
   "id": "advance-detail",
   "metadata": {},
   "outputs": [],
   "source": [
    "speech_key = \"key\"\n",
    "speech_key = \"region\""
   ]
  },
  {
   "cell_type": "code",
   "execution_count": null,
   "id": "worldwide-greece",
   "metadata": {},
   "outputs": [],
   "source": [
    "textanalytics_key = \"key\"\n",
    "textanalytics_endpoint = \"endpoint\""
   ]
  },
  {
   "cell_type": "markdown",
   "id": "handed-uganda",
   "metadata": {},
   "source": [
    "<h5>Speech to Text Fonksiyonları"
   ]
  },
  {
   "cell_type": "code",
   "execution_count": null,
   "id": "velvet-charleston",
   "metadata": {},
   "outputs": [],
   "source": [
    "speech_config = speechsdk.SpeechConfig(subscription= speech_key, region= speech_region) "
   ]
  },
  {
   "cell_type": "code",
   "execution_count": null,
   "id": "stretch-active",
   "metadata": {},
   "outputs": [],
   "source": [
    "def speech_recognize_continuous_from_file(file, output_file_name):\n",
    "    \n",
    "    speech_config = speechsdk.SpeechConfig(subscription=speech_key, region=speech_key) \n",
    "    audio_config = file\n",
    "    \n",
    "    speech_recognizer = speechsdk.SpeechRecognizer(speech_config=speech_config, audio_config=audio_config, language=\"tr-TR\")\n",
    "    \n",
    "    done = False\n",
    "    def stop_cb(evt):\n",
    "        #print('CLOSING on {}'.format(evt))\n",
    "        speech_recognizer.stop_continuous_recognition()\n",
    "        nonlocal done\n",
    "        done = True\n",
    "    all_results = []\n",
    "    def handle_final_result(evt):\n",
    "        all_results.append(evt.result.text)\n",
    "    speech_recognizer.recognized.connect(handle_final_result)\n",
    "    \n",
    "    #Anlik speech to Text donusumunu takip etmek icin asagidaki satirlari uncomment ediniz.\n",
    "    \n",
    "    #speech_recognizer.recognizing.connect(lambda evt: print('RECOGNIZING: {}'.format(evt)))\n",
    "    #speech_recognizer.recognized.connect(lambda evt: print('RECOGNIZED: {}'.format(evt)))\n",
    "    #speech_recognizer.session_started.connect(lambda evt: print('SESSION STARTED: {}'.format(evt)))\n",
    "    #speech_recognizer.session_stopped.connect(lambda evt: print('SESSION STOPPED {}'.format(evt)))\n",
    "    ##speech_recognizer.canceled.connect(lambda evt: print('CANCELED {}'.format(evt)))\n",
    "    \n",
    "    speech_recognizer.session_stopped.connect(stop_cb)\n",
    "    speech_recognizer.canceled.connect(stop_cb)\n",
    "    \n",
    "    speech_recognizer.start_continuous_recognition()\n",
    "    while not done:\n",
    "        time.sleep(.5)\n",
    "    print(\"Printing all results:\")\n",
    "    print(all_results)\n",
    "    df = pd.DataFrame(all_results)\n",
    "    df\n",
    "    file_name = output_file_name + r\".csv\"\n",
    "    df.to_csv(file_name)\n",
    "    print (\"Audio File: converted successfully\")\n",
    "    return all_results"
   ]
  },
  {
   "cell_type": "code",
   "execution_count": null,
   "id": "controlling-guarantee",
   "metadata": {},
   "outputs": [],
   "source": [
    "def speech_to_text(audio_input, output_file_name):\n",
    "    print (\"PROGRAM START\")\n",
    "    tic = time.perf_counter()\n",
    "    \n",
    "    file= audio_input\n",
    "\n",
    "    # Loop to call function to convert audio files to text\n",
    "    #run_speech_to_text_small_audio_files(file)\n",
    "    all_results = speech_recognize_continuous_from_file(file, output_file_name)\n",
    "    print(file)\n",
    "    print (\"PROGRAM END\")\n",
    "    toc = time.perf_counter()\n",
    "    print(f\"Converted speech to text in {toc - tic:0.4f} seconds\")\n",
    "    return all_results"
   ]
  },
  {
   "cell_type": "markdown",
   "id": "medium-analyst",
   "metadata": {},
   "source": [
    "<h5>Text Analytics Fonksiyonları"
   ]
  },
  {
   "cell_type": "code",
   "execution_count": null,
   "id": "found-breakfast",
   "metadata": {},
   "outputs": [],
   "source": [
    "key = textanalytics_key\n",
    "endpoint = textanalytics_endpoint\n",
    "def authenticateClient():\n",
    "    credential = AzureKeyCredential(key)\n",
    "    text_analytics_client = TextAnalyticsClient(\n",
    "        endpoint=endpoint, credential=credential)\n",
    "    return text_analytics_client\n",
    "client = authenticateClient()"
   ]
  },
  {
   "cell_type": "code",
   "execution_count": null,
   "id": "detected-paper",
   "metadata": {},
   "outputs": [],
   "source": [
    "def sentiment_analysis_example(client, sentence):\n",
    "    documents = [sentence]\n",
    "    response = client.analyze_sentiment(documents=documents)[0]\n",
    "    print(\"\\tDocument Sentiment: {}\".format(response.sentiment))\n",
    "    print(\"\\tOverall scores: positive={0:.2f}; neutral={1:.2f}; negative={2:.2f} \".format(\n",
    "        response.confidence_scores.positive,\n",
    "        response.confidence_scores.neutral,\n",
    "        response.confidence_scores.negative,\n",
    "    ))\n",
    "    for idx, sentence in enumerate(response.sentences):\n",
    "        print(\"\\t\\tSentence: {}\".format(sentence.text))\n",
    "        print(\"\\t\\tSentence {} sentiment: {}\".format(idx+1, sentence.sentiment))\n",
    "        print(\"\\t\\tSentence score:\\tPositive={0:.2f}\\tNeutral={1:.2f}\\tNegative={2:.2f}\\n\".format(\n",
    "            sentence.confidence_scores.positive,\n",
    "            sentence.confidence_scores.neutral,\n",
    "            sentence.confidence_scores.negative,\n",
    "        ))\n",
    "    \n",
    "\n",
    "    return (\n",
    "        response.confidence_scores.positive,\n",
    "        response.confidence_scores.neutral,\n",
    "        response.confidence_scores.negative,\n",
    "    )"
   ]
  },
  {
   "cell_type": "code",
   "execution_count": null,
   "id": "intense-music",
   "metadata": {},
   "outputs": [],
   "source": [
    "def entity_recognition_example(client, sentence):\n",
    "    try:\n",
    "        documents = [{\"language\": \"tr\",\"id\": \"1\",\"text\": sentence }]\n",
    "        #documents = [sentence]\n",
    "        result = client.recognize_entities(documents = documents)[0]\n",
    "\n",
    "        print(\"\\n\\tNamed Entities:\\n\")\n",
    "        for entity in result.entities:\n",
    "            print(\"\\t\\tText: \\t\", entity.text, \"\\tCategory: \\t\", entity.category, \"\\tSubCategory: \\t\", entity.subcategory,\n",
    "                    \"\\n\\t\\tConfidence Score: \\t\", round(entity.confidence_score, 2), \"\\tLength: \\t\", entity.length, \"\\tOffset: \\t\", entity.offset, \"\\n\")\n",
    "            \n",
    "        return result\n",
    "    except Exception as err:\n",
    "        print(\"\\tEncountered exception. {}\".format(err))"
   ]
  },
  {
   "cell_type": "markdown",
   "id": "indian-lexington",
   "metadata": {},
   "source": [
    "<h3>AUDIO FILE 1\n",
    "<h5>Speech To Text Dönüşümü"
   ]
  },
  {
   "cell_type": "code",
   "execution_count": null,
   "id": "novel-oxide",
   "metadata": {
    "scrolled": true
   },
   "outputs": [],
   "source": [
    "stt_results1 = speech_to_text(audio_input1, output1)"
   ]
  },
  {
   "cell_type": "markdown",
   "id": "rapid-sheffield",
   "metadata": {},
   "source": [
    "<h3>AUDIO FILE 1\n",
    "<h5>Sentiment Analizi, Key Extraction'u ve Entity Bulma"
   ]
  },
  {
   "cell_type": "code",
   "execution_count": null,
   "id": "liberal-milton",
   "metadata": {
    "scrolled": true
   },
   "outputs": [],
   "source": [
    "num_of_sentences = len(stt_results1)\n",
    "#print(num_of_sentences)\n",
    "all_results = []\n",
    "for i in range (num_of_sentences):\n",
    "    sentence = stt_results1[i]\n",
    "    if sentence != '':\n",
    "        print(i+1,\"- \", sentence)\n",
    "        rp, rne, rn = sentiment_analysis_example(client, sentence)\n",
    "        all_results.append([sentence, rp, rne, rn])\n",
    "        entity_recognition_example(client, sentence)\n",
    "df = pd.DataFrame(all_results)\n",
    "df\n",
    "output_file_name = \"output1-ta\"\n",
    "file_name = output_file_name + r\".csv\"\n",
    "df.to_csv(file_name)"
   ]
  },
  {
   "cell_type": "markdown",
   "id": "optical-prefix",
   "metadata": {},
   "source": [
    "***********************************************************"
   ]
  },
  {
   "cell_type": "markdown",
   "id": "first-preserve",
   "metadata": {},
   "source": [
    "<h3>AUDIO FILE 2\n",
    "<h5>Speech To Text Dönüşümü"
   ]
  },
  {
   "cell_type": "code",
   "execution_count": null,
   "id": "running-destination",
   "metadata": {},
   "outputs": [],
   "source": [
    "stt_results2 = speech_to_text(audio_input2, output2)"
   ]
  },
  {
   "cell_type": "markdown",
   "id": "emerging-monaco",
   "metadata": {},
   "source": [
    "<h3>AUDIO FILE 2\n",
    "<h5>Sentiment Analizi ve Entity Bulma"
   ]
  },
  {
   "cell_type": "code",
   "execution_count": null,
   "id": "surprised-banks",
   "metadata": {},
   "outputs": [],
   "source": [
    "num_of_sentences = len(stt_results2)\n",
    "#print(num_of_sentences)\n",
    "for i in range (num_of_sentences):\n",
    "    sentence = stt_results2[i]\n",
    "    if sentence != '':\n",
    "        print(i+1,\"- \", sentence)\n",
    "        rp, rne, rn = sentiment_analysis_example(client, sentence)\n",
    "        all_results.append([sentence, rp, rne, rn])\n",
    "        entity_recognition_example(client, sentence)\n",
    "df = pd.DataFrame(all_results)\n",
    "df\n",
    "output_file_name = \"output2-ta\"\n",
    "file_name = output_file_name + r\".csv\"\n",
    "df.to_csv(file_name)"
   ]
  },
  {
   "cell_type": "code",
   "execution_count": null,
   "id": "persistent-beginning",
   "metadata": {},
   "outputs": [],
   "source": []
  }
 ],
 "metadata": {
  "kernelspec": {
   "display_name": "Python 3",
   "language": "python",
   "name": "python3"
  },
  "language_info": {
   "codemirror_mode": {
    "name": "ipython",
    "version": 3
   },
   "file_extension": ".py",
   "mimetype": "text/x-python",
   "name": "python",
   "nbconvert_exporter": "python",
   "pygments_lexer": "ipython3",
   "version": "3.7.9"
  }
 },
 "nbformat": 4,
 "nbformat_minor": 5
}
