{
 "cells": [
  {
   "cell_type": "code",
   "execution_count": null,
   "id": "negative-collector",
   "metadata": {},
   "outputs": [],
   "source": [
    "key = \"...\"\n",
    "endpoint = \"...\""
   ]
  },
  {
   "cell_type": "code",
   "execution_count": null,
   "id": "productive-cookbook",
   "metadata": {},
   "outputs": [],
   "source": [
    "from azure.ai.textanalytics import TextAnalyticsClient\n",
    "from azure.core.credentials import AzureKeyCredential\n",
    "\n",
    "def authenticateClient():\n",
    "    credential = AzureKeyCredential(key)\n",
    "    text_analytics_client = TextAnalyticsClient(\n",
    "        endpoint=endpoint, credential=credential)\n",
    "    return text_analytics_client"
   ]
  },
  {
   "cell_type": "code",
   "execution_count": null,
   "id": "composed-negative",
   "metadata": {},
   "outputs": [],
   "source": [
    "def sentiment():\n",
    "    \n",
    "    client = authenticateClient()\n",
    "\n",
    "    try:\n",
    "        documents = [\n",
    "            {\"id\": \"1\", \"language\": \"en\", \"text\": \"I had the best day of my life.\"},\n",
    "            {\"id\": \"2\", \"language\": \"en\",\n",
    "                \"text\": \"This was a waste of my time. The speaker put me to sleep.\"},\n",
    "            {\"id\": \"3\", \"language\": \"es\", \"text\": \"No tengo dinero ni nada que dar...\"},\n",
    "            {\"id\": \"4\", \"language\": \"tur\",\n",
    "                \"text\": \"bu ürünü çok beğendim.\"}\n",
    "        ]\n",
    "\n",
    "        response = client.analyze_sentiment(documents=documents)\n",
    "        for document in response:\n",
    "            print(\"Document Id: \", document.id, \", Sentiment: \", document.sentiment)\n",
    "            score = document.confidence_scores\n",
    "            print(\"\\tConfidence Scores: \")\n",
    "            print(\"\\t\\tNegative: {:.2f}\\tNeutral: {:.2f}\\tPositive: {:.2f}\"\n",
    "                  .format(score.negative, score.neutral, score.positive))\n",
    "\n",
    "    except Exception as err:\n",
    "        print(\"Encountered exception. {}\".format(err))\n",
    "sentiment()"
   ]
  },
  {
   "cell_type": "code",
   "execution_count": null,
   "id": "expected-vacuum",
   "metadata": {},
   "outputs": [],
   "source": [
    "def language_detection_example(client):\n",
    "    try:\n",
    "        documents = [\"Ce document est rédigé en Français.\"]\n",
    "        response = client.detect_language(documents = documents, country_hint = 'us')[0]\n",
    "        print(\"Language: \", response.primary_language.name)\n",
    "\n",
    "    except Exception as err:\n",
    "        print(\"Encountered exception. {}\".format(err))\n",
    "language_detection_example(client)"
   ]
  },
  {
   "cell_type": "code",
   "execution_count": null,
   "id": "artistic-behalf",
   "metadata": {},
   "outputs": [],
   "source": []
  },
  {
   "cell_type": "code",
   "execution_count": null,
   "id": "hundred-harvey",
   "metadata": {},
   "outputs": [],
   "source": []
  }
 ],
 "metadata": {
  "kernelspec": {
   "display_name": "Python 3",
   "language": "python",
   "name": "python3"
  },
  "language_info": {
   "codemirror_mode": {
    "name": "ipython",
    "version": 3
   },
   "file_extension": ".py",
   "mimetype": "text/x-python",
   "name": "python",
   "nbconvert_exporter": "python",
   "pygments_lexer": "ipython3",
   "version": "3.7.9"
  }
 },
 "nbformat": 4,
 "nbformat_minor": 5
}
