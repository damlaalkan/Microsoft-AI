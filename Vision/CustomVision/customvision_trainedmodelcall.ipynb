{
 "cells": [
  {
   "cell_type": "code",
   "execution_count": 23,
   "id": "qualified-visit",
   "metadata": {},
   "outputs": [],
   "source": [
    "#CUSTOM VISION PREDICTION URL CALL for TRAINED PROJECT"
   ]
  },
  {
   "cell_type": "code",
   "execution_count": 24,
   "id": "dated-companion",
   "metadata": {},
   "outputs": [],
   "source": [
    "#pip install azure-cognitiveservices-vision-customvision"
   ]
  },
  {
   "cell_type": "code",
   "execution_count": 25,
   "id": "female-solomon",
   "metadata": {},
   "outputs": [],
   "source": [
    "from azure.cognitiveservices.vision.customvision.training import CustomVisionTrainingClient\n",
    "from azure.cognitiveservices.vision.customvision.prediction import CustomVisionPredictionClient\n",
    "from azure.cognitiveservices.vision.customvision.training.models import ImageFileCreateBatch, ImageFileCreateEntry, Region\n",
    "from msrest.authentication import ApiKeyCredentials\n",
    "import time"
   ]
  },
  {
   "cell_type": "code",
   "execution_count": 26,
   "id": "preceding-baking",
   "metadata": {},
   "outputs": [],
   "source": [
    "# Replace with valid values\n",
    "ENDPOINT = \"<endpoint>\"\n",
    "training_key = \"<tkey>\"\n",
    "prediction_key = \"<pkey>\"\n",
    "prediction_resource_id = \"<id>\""
   ]
  },
  {
   "cell_type": "code",
   "execution_count": 27,
   "id": "urban-prior",
   "metadata": {},
   "outputs": [],
   "source": [
    "#Authenticate the client\n",
    "credentials = ApiKeyCredentials(in_headers={\"Training-key\": training_key})\n",
    "trainer = CustomVisionTrainingClient(ENDPOINT, credentials)\n",
    "prediction_credentials = ApiKeyCredentials(in_headers={\"Prediction-key\": prediction_key})\n",
    "predictor = CustomVisionPredictionClient(ENDPOINT, prediction_credentials)"
   ]
  },
  {
   "cell_type": "code",
   "execution_count": 28,
   "id": "animal-contemporary",
   "metadata": {},
   "outputs": [],
   "source": [
    "#prediction url and iteration details\n",
    "prediction_url = \"<url>\"\n",
    "\n",
    "projectid = '<pid>'\n",
    "itername = '<it>'"
   ]
  },
  {
   "cell_type": "code",
   "execution_count": 29,
   "id": "rational-migration",
   "metadata": {},
   "outputs": [
    {
     "name": "stdout",
     "output_type": "stream",
     "text": [
      "\t1bw: 100.00%\n",
      "\t1renkli: 0.00%\n",
      "\t2negatif: 0.00%\n"
     ]
    }
   ],
   "source": [
    "#Test the prediction endpoint\n",
    "\n",
    "# Now there is a trained endpoint that can be used to make a prediction\n",
    "prediction_credentials = ApiKeyCredentials(in_headers={\"Prediction-key\": prediction_key})\n",
    "predictor = CustomVisionPredictionClient(ENDPOINT, prediction_credentials)\n",
    "\n",
    "with open(\"testimage.png\", \"rb\") as image_contents:\n",
    "    results = predictor.classify_image(projectid, itername, image_contents.read())\n",
    "\n",
    "    # Display the results.\n",
    "    for prediction in results.predictions:\n",
    "        print(\"\\t\" + prediction.tag_name +\n",
    "              \": {0:.2f}%\".format(prediction.probability * 100))\n"
   ]
  },
  {
   "cell_type": "code",
   "execution_count": null,
   "id": "early-radar",
   "metadata": {},
   "outputs": [],
   "source": []
  },
  {
   "cell_type": "code",
   "execution_count": null,
   "id": "opposed-presentation",
   "metadata": {},
   "outputs": [],
   "source": []
  }
 ],
 "metadata": {
  "kernelspec": {
   "display_name": "Python 3",
   "language": "python",
   "name": "python3"
  },
  "language_info": {
   "codemirror_mode": {
    "name": "ipython",
    "version": 3
   },
   "file_extension": ".py",
   "mimetype": "text/x-python",
   "name": "python",
   "nbconvert_exporter": "python",
   "pygments_lexer": "ipython3",
   "version": "3.7.9"
  }
 },
 "nbformat": 4,
 "nbformat_minor": 5
}
