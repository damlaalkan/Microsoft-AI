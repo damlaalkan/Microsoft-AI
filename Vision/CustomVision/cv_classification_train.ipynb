{
 "cells": [
  {
   "cell_type": "code",
   "execution_count": null,
   "id": "sustainable-burton",
   "metadata": {},
   "outputs": [],
   "source": [
    "#pip install azure-cognitiveservices-vision-customvision\n",
    "#images: https://github.com/Azure-Samples/cognitive-services-sample-data-files/tree/master/CustomVision/ImageClassification/Images"
   ]
  },
  {
   "cell_type": "code",
   "execution_count": null,
   "id": "boring-december",
   "metadata": {},
   "outputs": [],
   "source": [
    "from azure.cognitiveservices.vision.customvision.training import CustomVisionTrainingClient\n",
    "from azure.cognitiveservices.vision.customvision.prediction import CustomVisionPredictionClient\n",
    "from azure.cognitiveservices.vision.customvision.training.models import ImageFileCreateBatch, ImageFileCreateEntry, Region\n",
    "from msrest.authentication import ApiKeyCredentials\n",
    "import time"
   ]
  },
  {
   "cell_type": "code",
   "execution_count": null,
   "id": "passive-cooperative",
   "metadata": {},
   "outputs": [],
   "source": [
    "# Replace with valid values\n",
    "ENDPOINT = \"849e27bdecbf4b12853f6d48a2574053\"\n",
    "training_key = \"https://customvisionhuma.cognitiveservices.azure.com/\""
   ]
  },
  {
   "cell_type": "code",
   "execution_count": null,
   "id": "unauthorized-correlation",
   "metadata": {},
   "outputs": [],
   "source": [
    "credentials = ApiKeyCredentials(in_headers={\"Training-key\": training_key})\n",
    "trainer = CustomVisionTrainingClient(ENDPOINT, credentials)\n",
    "prediction_credentials = ApiKeyCredentials(in_headers={\"Prediction-key\": prediction_key})\n",
    "predictor = CustomVisionPredictionClient(ENDPOINT, prediction_credentials)"
   ]
  },
  {
   "cell_type": "code",
   "execution_count": null,
   "id": "reported-arena",
   "metadata": {},
   "outputs": [],
   "source": [
    "publish_iteration_name = \"classifyModel\"\n",
    "\n",
    "credentials = ApiKeyCredentials(in_headers={\"Training-key\": training_key})\n",
    "trainer = CustomVisionTrainingClient(ENDPOINT, credentials)\n",
    "\n",
    "# Create a new project\n",
    "print (\"Creating project...\")\n",
    "project = trainer.create_project(\"My New Project\")"
   ]
  },
  {
   "cell_type": "code",
   "execution_count": null,
   "id": "solved-bidder",
   "metadata": {},
   "outputs": [],
   "source": [
    "# Make two tags in the new project\n",
    "hemlock_tag = trainer.create_tag(project.id, \"Hemlock\")\n",
    "cherry_tag = trainer.create_tag(project.id, \"Japanese Cherry\")"
   ]
  },
  {
   "cell_type": "code",
   "execution_count": null,
   "id": "whole-turkish",
   "metadata": {},
   "outputs": [],
   "source": [
    "base_image_location = \"cognitive-services-sample-data-files-master/cognitive-services-sample-data-files-master/CustomVision/ImageClassification/\"\n",
    "\n",
    "print(\"Adding images...\")\n",
    "\n",
    "image_list = []\n",
    "\n",
    "for image_num in range(1, 11):\n",
    "    file_name = \"hemlock_{}.jpg\".format(image_num)\n",
    "    with open(base_image_location + \"Images/Hemlock/\" + file_name, \"rb\") as image_contents:\n",
    "        image_list.append(ImageFileCreateEntry(name=file_name, contents=image_contents.read(), tag_ids=[hemlock_tag.id]))\n",
    "\n",
    "for image_num in range(1, 11):\n",
    "    file_name = \"japanese_cherry_{}.jpg\".format(image_num)\n",
    "    with open(base_image_location + \"Images/Japanese Cherry/\" + file_name, \"rb\") as image_contents:\n",
    "        image_list.append(ImageFileCreateEntry(name=file_name, contents=image_contents.read(), tag_ids=[cherry_tag.id]))\n",
    "\n",
    "upload_result = trainer.create_images_from_files(project.id, ImageFileCreateBatch(images=image_list))\n",
    "if not upload_result.is_batch_successful:\n",
    "    print(\"Image batch upload failed.\")\n",
    "    for image in upload_result.images:\n",
    "        print(\"Image status: \", image.status)\n",
    "    exit(-1)"
   ]
  },
  {
   "cell_type": "code",
   "execution_count": null,
   "id": "expired-turner",
   "metadata": {},
   "outputs": [],
   "source": [
    "print (\"Training...\")\n",
    "iteration = trainer.train_project(project.id)\n",
    "while (iteration.status != \"Completed\"):\n",
    "    iteration = trainer.get_iteration(project.id, iteration.id)\n",
    "    print (\"Training status: \" + iteration.status)\n",
    "    time.sleep(1)\n",
    "\n",
    "# The iteration is now trained. Publish it to the project endpoint\n",
    "trainer.publish_iteration(project.id, iteration.id, publish_iteration_name, prediction_resource_id)\n",
    "print (\"Done!\")"
   ]
  },
  {
   "cell_type": "code",
   "execution_count": null,
   "id": "proved-stevens",
   "metadata": {},
   "outputs": [],
   "source": [
    "# The iteration is now trained. Publish it to the project endpoint\n",
    "trainer.publish_iteration(project.id, iteration.id, publish_iteration_name, prediction_resource_id)\n",
    "print (\"Done!\")"
   ]
  }
 ],
 "metadata": {
  "kernelspec": {
   "display_name": "Python 3",
   "language": "python",
   "name": "python3"
  },
  "language_info": {
   "codemirror_mode": {
    "name": "ipython",
    "version": 3
   },
   "file_extension": ".py",
   "mimetype": "text/x-python",
   "name": "python",
   "nbconvert_exporter": "python",
   "pygments_lexer": "ipython3",
   "version": "3.7.9"
  }
 },
 "nbformat": 4,
 "nbformat_minor": 5
}
