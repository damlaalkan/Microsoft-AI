{
 "cells": [
  {
   "cell_type": "markdown",
   "id": "central-loading",
   "metadata": {},
   "source": [
    "FORM RECOGNIZER - Analyze forms with a custom model\n",
    "https://docs.microsoft.com/en-us/azure/cognitive-services/form-recognizer/quickstarts/client-library?pivots=programming-language-python&tabs=preview%2Cv2-1"
   ]
  },
  {
   "cell_type": "code",
   "execution_count": null,
   "id": "crazy-technology",
   "metadata": {},
   "outputs": [],
   "source": [
    "#pip install azure-ai-formrecognizer"
   ]
  },
  {
   "cell_type": "code",
   "execution_count": null,
   "id": "western-billion",
   "metadata": {},
   "outputs": [],
   "source": [
    "import os\n",
    "from azure.core.exceptions import ResourceNotFoundError\n",
    "from azure.ai.formrecognizer import FormRecognizerClient\n",
    "from azure.ai.formrecognizer import FormTrainingClient\n",
    "from azure.core.credentials import AzureKeyCredential"
   ]
  },
  {
   "cell_type": "code",
   "execution_count": null,
   "id": "preceding-hungarian",
   "metadata": {},
   "outputs": [],
   "source": [
    "#Test Form Source\n",
    "formUrl = \"your_test_image(form)_url\""
   ]
  },
  {
   "cell_type": "code",
   "execution_count": null,
   "id": "engaged-denial",
   "metadata": {},
   "outputs": [],
   "source": [
    "# Endpoint URL\n",
    "endpoint = r\"your_endpoint\"\n",
    "# Subscription Key\n",
    "key = \"your_key\" \n",
    "# Model ID\n",
    "model_id = \"your_modelid\""
   ]
  },
  {
   "cell_type": "code",
   "execution_count": null,
   "id": "enabling-worker",
   "metadata": {},
   "outputs": [],
   "source": [
    "form_recognizer_client = FormRecognizerClient(endpoint, AzureKeyCredential(key))"
   ]
  },
  {
   "cell_type": "code",
   "execution_count": null,
   "id": "moral-table",
   "metadata": {},
   "outputs": [],
   "source": [
    "poller = form_recognizer_client.begin_recognize_custom_forms_from_url(\n",
    "    model_id=model_id, form_url=formUrl)\n",
    "result = poller.result()\n",
    "\n",
    "for recognized_form in result:\n",
    "    print(\"Form type: {}\".format(recognized_form.form_type))\n",
    "    for name, field in recognized_form.fields.items():\n",
    "        print(\"Field '{}' has label '{}' with value '{}' and a confidence score of {}\".format(\n",
    "            name,\n",
    "            field.label_data.text if field.label_data else name,\n",
    "            field.value,\n",
    "            field.confidence\n",
    "        ))"
   ]
  },
  {
   "cell_type": "code",
   "execution_count": null,
   "id": "still-windows",
   "metadata": {},
   "outputs": [],
   "source": []
  }
 ],
 "metadata": {
  "kernelspec": {
   "display_name": "Python 3",
   "language": "python",
   "name": "python3"
  },
  "language_info": {
   "codemirror_mode": {
    "name": "ipython",
    "version": 3
   },
   "file_extension": ".py",
   "mimetype": "text/x-python",
   "name": "python",
   "nbconvert_exporter": "python",
   "pygments_lexer": "ipython3",
   "version": "3.7.9"
  }
 },
 "nbformat": 4,
 "nbformat_minor": 5
}
