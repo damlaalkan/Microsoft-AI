{
 "cells": [
  {
   "cell_type": "markdown",
   "id": "promising-screen",
   "metadata": {},
   "source": [
    "FORM RECOGNIZER - Train a custom model\n",
    "https://docs.microsoft.com/en-us/azure/cognitive-services/form-recognizer/quickstarts/client-library?pivots=programming-language-python&tabs=preview%2Cv2-1"
   ]
  },
  {
   "cell_type": "code",
   "execution_count": null,
   "id": "fluid-persian",
   "metadata": {},
   "outputs": [],
   "source": [
    "#pip install azure-ai-formrecognizer"
   ]
  },
  {
   "cell_type": "code",
   "execution_count": null,
   "id": "equipped-people",
   "metadata": {},
   "outputs": [],
   "source": [
    "import os\n",
    "from azure.core.exceptions import ResourceNotFoundError\n",
    "from azure.ai.formrecognizer import FormRecognizerClient\n",
    "from azure.ai.formrecognizer import FormTrainingClient\n",
    "from azure.core.credentials import AzureKeyCredential"
   ]
  },
  {
   "cell_type": "code",
   "execution_count": null,
   "id": "proved-protest",
   "metadata": {},
   "outputs": [],
   "source": [
    "# Endpoint URL\n",
    "endpoint = r\"your_endpoint\"\n",
    "# Subscription Key\n",
    "key = \"your_key\" "
   ]
  },
  {
   "cell_type": "code",
   "execution_count": null,
   "id": "compatible-level",
   "metadata": {},
   "outputs": [],
   "source": [
    "form_recognizer_client = FormRecognizerClient(endpoint, AzureKeyCredential(key))\n",
    "form_training_client = FormTrainingClient(endpoint, AzureKeyCredential(key))"
   ]
  },
  {
   "cell_type": "code",
   "execution_count": null,
   "id": "thick-instrument",
   "metadata": {},
   "outputs": [],
   "source": [
    "#TRAIN A MODEL WITHOUT LABELS\n",
    "\n",
    "# To train a model you need an Azure Storage account.\n",
    "# Use the SAS URL to access your training files.\n",
    "trainingDataUrl = \"<SAS-URL-of-your-form-folder-in-blob-storage>\"\n",
    "\n",
    "poller = form_training_client.begin_training(trainingDataUrl, use_training_labels=False)\n",
    "model = poller.result()\n",
    "\n",
    "print(\"Model ID: {}\".format(model.model_id))\n",
    "print(\"Status: {}\".format(model.status))\n",
    "print(\"Training started on: {}\".format(model.training_started_on))\n",
    "print(\"Training completed on: {}\".format(model.training_completed_on))\n",
    "\n",
    "print(\"\\nRecognized fields:\")\n",
    "for submodel in model.submodels:\n",
    "    print(\n",
    "        \"The submodel with form type '{}' has recognized the following fields: {}\".format(\n",
    "            submodel.form_type,\n",
    "            \", \".join(\n",
    "                [\n",
    "                    field.label if field.label else name\n",
    "                    for name, field in submodel.fields.items()\n",
    "                ]\n",
    "            ),\n",
    "        )\n",
    "    )\n",
    "\n",
    "# Training result information\n",
    "for doc in model.training_documents:\n",
    "    print(\"Document name: {}\".format(doc.name))\n",
    "    print(\"Document status: {}\".format(doc.status))\n",
    "    print(\"Document page count: {}\".format(doc.page_count))\n",
    "    print(\"Document errors: {}\".format(doc.errors))"
   ]
  },
  {
   "cell_type": "code",
   "execution_count": null,
   "id": "configured-stupid",
   "metadata": {},
   "outputs": [],
   "source": [
    "#TRAIN A MODEL WITH LABELS\n",
    "\n",
    "'''\n",
    "To train with labels, you need to have special label information files (\\<filename\\>.pdf.labels.json) \n",
    "in your blob storage container alongside the training documents. \n",
    "The Form Recognizer sample labeling tool provides a UI to help you create these label files. \n",
    "Once you have them, you can call the begin_training function with the use_training_labels parameter set to true.\n",
    "'''\n",
    "\n",
    "# To train a model you need an Azure Storage account.\n",
    "# Use the SAS URL to access your training files.\n",
    "trainingDataUrl = \"<SAS-URL-of-your-form-folder-in-blob-storage>\"\n",
    "\n",
    "poller = form_training_client.begin_training(trainingDataUrl, use_training_labels=True)\n",
    "model = poller.result()\n",
    "\n",
    "print(\"Model ID: {}\".format(model.model_id))\n",
    "print(\"Status: {}\".format(model.status))\n",
    "print(\"Training started on: {}\".format(model.training_started_on))\n",
    "print(\"Training completed on: {}\".format(model.training_completed_on))\n",
    "\n",
    "print(\"\\nRecognized fields:\")\n",
    "for submodel in model.submodels:\n",
    "    print(\n",
    "        \"The submodel with form type '{}' has recognized the following fields: {}\".format(\n",
    "            submodel.form_type,\n",
    "            \", \".join(\n",
    "                [\n",
    "                    field.label if field.label else name\n",
    "                    for name, field in submodel.fields.items()\n",
    "                ]\n",
    "            ),\n",
    "        )\n",
    "    )\n",
    "\n",
    "# Training result information\n",
    "for doc in model.training_documents:\n",
    "    print(\"Document name: {}\".format(doc.name))\n",
    "    print(\"Document status: {}\".format(doc.status))\n",
    "    print(\"Document page count: {}\".format(doc.page_count))\n",
    "    print(\"Document errors: {}\".format(doc.errors))"
   ]
  },
  {
   "cell_type": "code",
   "execution_count": null,
   "id": "substantial-housing",
   "metadata": {},
   "outputs": [],
   "source": []
  }
 ],
 "metadata": {
  "kernelspec": {
   "display_name": "Python 3",
   "language": "python",
   "name": "python3"
  },
  "language_info": {
   "codemirror_mode": {
    "name": "ipython",
    "version": 3
   },
   "file_extension": ".py",
   "mimetype": "text/x-python",
   "name": "python",
   "nbconvert_exporter": "python",
   "pygments_lexer": "ipython3",
   "version": "3.7.9"
  }
 },
 "nbformat": 4,
 "nbformat_minor": 5
}
